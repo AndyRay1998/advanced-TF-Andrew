{
 "cells": [
  {
   "cell_type": "code",
   "execution_count": 1,
   "metadata": {},
   "outputs": [],
   "source": [
    "import tensorflow as tf\n",
    "import numpy as np\n",
    "import matplotlib.pyplot as plt\n",
    "import tensorflow_datasets as tfds\n",
    "from tqdm import tqdm\n",
    "%matplotlib inline"
   ]
  },
  {
   "cell_type": "markdown",
   "metadata": {},
   "source": [
    "# load data"
   ]
  },
  {
   "cell_type": "code",
   "execution_count": null,
   "metadata": {},
   "outputs": [],
   "source": [
    "train_data= tfds.load(\"fashion_mnist\", split=\"train\", batch_size=64, shuffle_files=True)\n",
    "test_data= tfds.load(\"fashion_mnist\", split=\"test\", batch_size=64, shuffle_files=True)"
   ]
  },
  {
   "cell_type": "code",
   "execution_count": 39,
   "metadata": {},
   "outputs": [],
   "source": [
    "def base_model():\n",
    "    inputs = tf.keras.Input(shape=(28, 28), name='digits')\n",
    "    x = tf.keras.layers.Flatten(name='flatten_layer')(inputs)\n",
    "    x = tf.keras.layers.Dense(784, activation='relu', name='dense_1')(x)\n",
    "    x = tf.keras.layers.Dense(128, activation='relu', name='dense_2')(x)\n",
    "    outputs = tf.keras.layers.Dense(10, activation='softmax', name='prediction')(x)\n",
    "    model = tf.keras.Model(inputs=inputs, outputs=outputs)\n",
    "    return model"
   ]
  },
  {
   "cell_type": "code",
   "execution_count": 40,
   "metadata": {},
   "outputs": [],
   "source": [
    "optimizer = tf.keras.optimizers.Adam()\n",
    "loss_object = tf.keras.losses.SparseCategoricalCrossentropy()"
   ]
  },
  {
   "cell_type": "code",
   "execution_count": 41,
   "metadata": {},
   "outputs": [],
   "source": [
    "train_acc_metric = tf.keras.metrics.SparseCategoricalAccuracy()\n",
    "val_acc_metric = tf.keras.metrics.SparseCategoricalAccuracy()"
   ]
  },
  {
   "cell_type": "markdown",
   "metadata": {},
   "source": [
    "# gradient descent"
   ]
  },
  {
   "cell_type": "code",
   "execution_count": 14,
   "metadata": {},
   "outputs": [],
   "source": [
    "def apply_gradient(optimizer, model, x, y):\n",
    "    with tf.GradientTape() as tape:\n",
    "        logits = model(x)\n",
    "        loss_value = loss_object(y_true=y, y_pred=logits)\n",
    "    \n",
    "    gradients = tape.gradient(loss_value, model.trainable_weights)\n",
    "    optimizer.apply_gradients(zip(gradients, model.trainable_weights))\n",
    "    \n",
    "    return logits, loss_value"
   ]
  },
  {
   "cell_type": "code",
   "execution_count": 51,
   "metadata": {},
   "outputs": [],
   "source": [
    "def train_data_one_epoch():\n",
    "    losses = []\n",
    "    pbar = tqdm(total=len(list(enumerate(train_data))), position=0, leave=True, bar_format='{l_bar}{bar}|{n_fmt}/{total_fmt}')\n",
    "    for data in list(train_data):\n",
    "        x_train = data['image'] / 255 # you have to do this or convert to float\n",
    "        y_train = data['label']\n",
    "        logits, loss_value = apply_gradient(optimizer, model, x_train, y_train)\n",
    "        \n",
    "        losses.append(loss_value)\n",
    "        \n",
    "        train_acc_metric(y_train, logits)\n",
    "        # pbar.set_description(f'Training loss: {float(loss_value)}')\n",
    "        pbar.update()\n",
    "    \n",
    "    pbar.close()\n",
    "    \n",
    "    return losses"
   ]
  },
  {
   "cell_type": "code",
   "execution_count": 48,
   "metadata": {},
   "outputs": [],
   "source": [
    "def perform_validation():\n",
    "    losses = []\n",
    "    for data in list(test_data):\n",
    "        val_logits = model(data['image'] / 255)\n",
    "        val_loss = loss_object(y_true=data['label'], y_pred=val_logits)\n",
    "        val_acc_metric(data['label'], y_pred=val_logits)\n",
    "        losses.append(val_loss)\n",
    "    return losses"
   ]
  },
  {
   "cell_type": "markdown",
   "metadata": {},
   "source": [
    "# main"
   ]
  },
  {
   "cell_type": "code",
   "execution_count": 52,
   "metadata": {
    "scrolled": true
   },
   "outputs": [
    {
     "name": "stderr",
     "output_type": "stream",
     "text": [
      "100%|██████████|938/938\n"
     ]
    },
    {
     "name": "stdout",
     "output_type": "stream",
     "text": [
      "epoch 0 training loss: 0.46473371982574463, acc: 0.8347833156585693,     val_loss: 0.4112408459186554, val_acc: 0.8489999771118164\n"
     ]
    },
    {
     "name": "stderr",
     "output_type": "stream",
     "text": [
      "100%|██████████|938/938\n"
     ]
    },
    {
     "name": "stdout",
     "output_type": "stream",
     "text": [
      "epoch 1 training loss: 0.3394627273082733, acc: 0.8759166598320007,     val_loss: 0.36440664529800415, val_acc: 0.8664000034332275\n"
     ]
    },
    {
     "name": "stderr",
     "output_type": "stream",
     "text": [
      "100%|██████████|938/938\n"
     ]
    },
    {
     "name": "stdout",
     "output_type": "stream",
     "text": [
      "epoch 2 training loss: 0.3072499632835388, acc: 0.886816680431366,     val_loss: 0.3380683958530426, val_acc: 0.8766000270843506\n"
     ]
    },
    {
     "name": "stderr",
     "output_type": "stream",
     "text": [
      "100%|██████████|938/938\n",
      "100%|██████████|938/938\n",
      "100%|██████████|938/938\n",
      "100%|██████████|938/938\n"
     ]
    },
    {
     "name": "stdout",
     "output_type": "stream",
     "text": [
      "epoch 3 training loss: 0.2837750315666199, acc: 0.8959166407585144,     val_loss: 0.3369562327861786, val_acc: 0.8794999718666077\n"
     ]
    },
    {
     "name": "stderr",
     "output_type": "stream",
     "text": [
      "100%|██████████|938/938\n"
     ]
    },
    {
     "name": "stdout",
     "output_type": "stream",
     "text": [
      "epoch 4 training loss: 0.268069326877594, acc: 0.9012166857719421,     val_loss: 0.34152230620384216, val_acc: 0.8758999705314636\n"
     ]
    },
    {
     "name": "stderr",
     "output_type": "stream",
     "text": [
      "100%|██████████|938/938\n"
     ]
    },
    {
     "name": "stdout",
     "output_type": "stream",
     "text": [
      "epoch 5 training loss: 0.25036340951919556, acc: 0.9063166379928589,     val_loss: 0.32994699478149414, val_acc: 0.8784999847412109\n"
     ]
    },
    {
     "name": "stderr",
     "output_type": "stream",
     "text": [
      "100%|██████████|938/938\n"
     ]
    },
    {
     "name": "stdout",
     "output_type": "stream",
     "text": [
      "epoch 6 training loss: 0.23900215327739716, acc: 0.910099983215332,     val_loss: 0.33756497502326965, val_acc: 0.8781999945640564\n"
     ]
    },
    {
     "name": "stderr",
     "output_type": "stream",
     "text": [
      "100%|██████████|938/938\n"
     ]
    },
    {
     "name": "stdout",
     "output_type": "stream",
     "text": [
      "epoch 7 training loss: 0.22902624309062958, acc: 0.9133333563804626,     val_loss: 0.32231396436691284, val_acc: 0.8840000033378601\n"
     ]
    },
    {
     "name": "stderr",
     "output_type": "stream",
     "text": [
      "100%|██████████|938/938\n"
     ]
    },
    {
     "name": "stdout",
     "output_type": "stream",
     "text": [
      "epoch 8 training loss: 0.21452493965625763, acc: 0.9188666939735413,     val_loss: 0.32985982298851013, val_acc: 0.8830999732017517\n"
     ]
    },
    {
     "name": "stderr",
     "output_type": "stream",
     "text": [
      "100%|██████████|938/938\n"
     ]
    },
    {
     "name": "stdout",
     "output_type": "stream",
     "text": [
      "epoch 9 training loss: 0.20845840871334076, acc: 0.9217666387557983,     val_loss: 0.33440229296684265, val_acc: 0.885200023651123\n"
     ]
    }
   ],
   "source": [
    "model = base_model()\n",
    "\n",
    "epochs = 10\n",
    "\n",
    "acc_l = []\n",
    "loss_l = []\n",
    "\n",
    "for epoch in range(epochs):\n",
    "    losses_train = train_data_one_epoch()\n",
    "    train_acc = train_acc_metric.result()\n",
    "    \n",
    "    losses_val = perform_validation()\n",
    "    val_acc = val_acc_metric.result()\n",
    "    \n",
    "    losses_train_mean = np.mean(losses_train)\n",
    "    losses_val_mean = np.mean(losses_val)\n",
    "    \n",
    "    acc_l.append(train_acc)\n",
    "    loss_l.append(losses_train_mean)\n",
    "    \n",
    "    # print(f'epoch {epoch} training loss: {losses_train_mean}, acc: {train_acc}, \\\n",
    "    # val_loss: {losses_val_mean}, val_acc: {val_acc}')\n",
    "    \n",
    "    train_acc_metric.reset_states()\n",
    "    val_acc_metric.reset_states()"
   ]
  },
  {
   "cell_type": "code",
   "execution_count": 53,
   "metadata": {},
   "outputs": [
    {
     "data": {
      "text/plain": [
       "[<matplotlib.lines.Line2D at 0x217e476aeb0>]"
      ]
     },
     "execution_count": 53,
     "metadata": {},
     "output_type": "execute_result"
    },
    {
     "data": {
      "image/png": "[encoded data removed]",
      "text/plain": [
       "<Figure size 432x288 with 1 Axes>"
      ]
     },
     "metadata": {
      "needs_background": "light"
     },
     "output_type": "display_data"
    }
   ],
   "source": [
    "plt.plot(acc_l)\n",
    "plt.plot(loss_l)"
   ]
  },
  {
   "cell_type": "code",
   "execution_count": null,
   "metadata": {},
   "outputs": [],
   "source": []
  }
 ],
 "metadata": {
  "kernelspec": {
   "display_name": "Python 3",
   "language": "python",
   "name": "python3"
  },
  "language_info": {
   "codemirror_mode": {
    "name": "ipython",
    "version": 3
   },
   "file_extension": ".py",
   "mimetype": "text/x-python",
   "name": "python",
   "nbconvert_exporter": "python",
   "pygments_lexer": "ipython3",
   "version": "3.8.5"
  }
 },
 "nbformat": 4,
 "nbformat_minor": 4
}
